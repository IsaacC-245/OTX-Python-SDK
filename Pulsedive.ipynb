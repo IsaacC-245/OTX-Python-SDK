{
 "cells": [
  {
   "cell_type": "code",
   "execution_count": 1,
   "metadata": {},
   "outputs": [
    {
     "name": "stdout",
     "output_type": "stream",
     "text": [
      "[{\"record_type\": \"A\", \"value\": \"144.167.4.20\"}, {\"record_type\": \"MX\", \"priority\": 10, \"value\": \"ALT4.ASPMX.L.GOOGLE.COM.\"}, {\"record_type\": \"MX\", \"priority\": 5, \"value\": \"ALT2.ASPMX.L.GOOGLE.COM.\"}, {\"record_type\": \"MX\", \"priority\": 5, \"value\": \"ALT1.ASPMX.L.GOOGLE.COM.\"}, {\"record_type\": \"MX\", \"priority\": 10, \"value\": \"ALT3.ASPMX.L.GOOGLE.COM.\"}, {\"record_type\": \"MX\", \"priority\": 1, \"value\": \"ASPMX.L.GOOGLE.COM.\"}, {\"record_type\": \"NS\", \"value\": \"ns7.net.ualr.edu.\"}, {\"record_type\": \"NS\", \"value\": \"ns3.ualr.edu.\"}, {\"record_type\": \"NS\", \"value\": \"ns2.ualr.edu.\"}, {\"record_type\": \"NS\", \"value\": \"ns4.ualr.edu.\"}, {\"record_type\": \"NS\", \"value\": \"ns.ualr.edu.\"}, {\"record_type\": \"NS\", \"value\": \"ns5.ualr.edu.\"}, {\"record_type\": \"NS\", \"value\": \"ns6.ualr.edu.\"}, {\"record_type\": \"SOA\", \"mname\": \"ns.ualr.edu.\", \"rname\": \"postmaster.ualr.edu.\", \"serial\": 2023032587, \"refresh\": 10800, \"retry\": 3600, \"expire\": 604800, \"ttl\": 38400}, {\"record_type\": \"TXT\", \"value\": \"ZOOM_verify_FtfVtPKpSoKiui1hCYYJXQ\"}, {\"record_type\": \"TXT\", \"value\": \"r9svejjr1luj2ku7p3ce75bioh\"}, {\"record_type\": \"TXT\", \"value\": \"e2ma-verification=mrvbb\"}, {\"record_type\": \"TXT\", \"value\": \"4matq4aje2v112uoj1vv6ufdvl\"}, {\"record_type\": \"TXT\", \"value\": \"atlassian-domain-verification=FBt1hWjLDogQKup18ZaeUiMxbTho38rXwmknWLiVuZFnZalvF2R/WaWiKnp/2ZA5\"}, {\"record_type\": \"TXT\", \"value\": \"2b0mti35tosrndv74u04iephu\"}, {\"record_type\": \"TXT\", \"value\": \"d365mktkey=mNxIBtzZKRzsdejlukNx9VTy4UsuRAiCmxqxgyumdAcx\"}, {\"record_type\": \"TXT\", \"value\": \"docusign=d939ca0f-1aae-4f79-9390-d2bb2d72aa07\"}, {\"record_type\": \"TXT\", \"value\": \"d365mktkey=0PY6PrPEXE0QWig2jZqcvXJBlpw2dtM2xJGEecS3Lgcx\"}, {\"record_type\": \"TXT\", \"value\": \"apple-domain-verification=YTkbLjGErIJBs6qz\"}, {\"record_type\": \"TXT\", \"value\": \"v=spf1 a:mta.ualr.edu include:_spf.google.com redirect=_spf.ualr.edu\"}, {\"record_type\": \"TXT\", \"value\": \"google-site-verification=uxC5PHOmwb-2a_aq1njrV1x-xsYhRd1WJy0NO1JVAIg\"}]\n"
     ]
    }
   ],
   "source": [
    "import requests\n",
    "import json\n",
    "import stix2\n",
    "\n",
    "def generate_dns_records(dns_records):\n",
    "    stix_records = []\n",
    "    for record in dns_records:\n",
    "        if record['record_type'] == 'A':\n",
    "            stix_record = stix2.IPv4Address(value=record['value'])\n",
    "        elif record['record_type'] == 'AAAA':\n",
    "            stix_record = stix2.IPv6Address(value=record['value'])\n",
    "        elif record['record_type'] == 'MX':\n",
    "            stix_record = stix2.EmailMessage(\n",
    "                from_ref=stix2.EmailAddress(value='example.com'),\n",
    "                to_refs=[stix2.EmailAddress(value='example.com')],\n",
    "                subject='MX Record',\n",
    "                body='Priority: ' + str(record['priority']) + '\\nValue: ' + record['value']\n",
    "            )\n",
    "        elif record['record_type'] == 'NS':\n",
    "            stix_record = stix2.DomainName(value=record['value'])\n",
    "        elif record['record_type'] == 'SOA':\n",
    "            stix_record = stix2.DomainName(\n",
    "                value=record['mname'],\n",
    "                custom_properties={\n",
    "                    'rname': record['rname'],\n",
    "                    'serial': record['serial'],\n",
    "                    'refresh': record['refresh'],\n",
    "                    'retry': record['retry'],\n",
    "                    'expire': record['expire'],\n",
    "                    'minimum': record['ttl']\n",
    "                }\n",
    "            )\n",
    "        elif record['record_type'] == 'TXT':\n",
    "            stix_record = stix2.Artifact(\n",
    "                mime_type='text/plain',\n",
    "                payload=record['value']\n",
    "            )\n",
    "        else:\n",
    "            # unsupported record type\n",
    "            continue\n",
    "        stix_records.append(stix_record)\n",
    "    return stix_records\n",
    "\n",
    "# set the domain and API key\n",
    "domain = 'ualr.edu'\n",
    "api_key = 'wHwJqDW0sOyr+YT8s31SQQ==6BkjC2ZIEvIGDjyi'\n",
    "\n",
    "# create the API URL with the domain and API key\n",
    "api_url = 'https://api.api-ninjas.com/v1/dnslookup?domain={}'.format(domain)\n",
    "headers = {'X-Api-Key': api_key}\n",
    "\n",
    "# make the API request\n",
    "response = requests.get(api_url, headers=headers)\n",
    "\n",
    "if response.status_code == requests.codes.ok:\n",
    "    # parse the JSON response into a dictionary\n",
    "    result = json.loads(response.text)\n",
    "\n",
    "    if 'records' in result:\n",
    "        dns_records = result['records']\n",
    "        # create a STIX 2.1 Domain Name object\n",
    "        domain_obj = {\n",
    "            \"type\": \"domain-name\",\n",
    "            \"value\": domain,\n",
    "            \"resolves_to_refs\": generate_dns_records(dns_records)\n",
    "        }\n",
    "\n",
    "        # print the STIX object as JSON\n",
    "        print(json.dumps(domain_obj, indent=4))\n",
    "    else:\n",
    "        print(response.text)\n",
    "else:\n",
    "    print(\"Error:\", response.status_code, response.text)\n"
   ]
  }
 ],
 "metadata": {
  "kernelspec": {
   "display_name": ".venv",
   "language": "python",
   "name": "python3"
  },
  "language_info": {
   "codemirror_mode": {
    "name": "ipython",
    "version": 3
   },
   "file_extension": ".py",
   "mimetype": "text/x-python",
   "name": "python",
   "nbconvert_exporter": "python",
   "pygments_lexer": "ipython3",
   "version": "3.7.4"
  },
  "orig_nbformat": 4
 },
 "nbformat": 4,
 "nbformat_minor": 2
}
