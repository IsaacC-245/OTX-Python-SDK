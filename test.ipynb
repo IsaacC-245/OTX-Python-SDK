{
 "cells": [
  {
   "cell_type": "code",
   "execution_count": 1,
   "metadata": {},
   "outputs": [],
   "source": [
    "from OTXv2 import OTXv2\n",
    "from OTXv2 import IndicatorTypes\n",
    "from stix2 import Indicator, ObservedData, ExternalReference\n",
    "otx = OTXv2(\"7ef390234ffa11dd340269f1ae184cf9fe3191bd2ba16b23148fe33c4ebe0c91\")"
   ]
  },
  {
   "cell_type": "code",
   "execution_count": 3,
   "metadata": {},
   "outputs": [],
   "source": [
    "import requests\n",
    "\n",
    "def search_domain(domain, section):\n",
    "    endpoint = f\"https://otx.alienvault.com/api/v1/indicators/domain/{domain}/{section}\"\n",
    "    try:\n",
    "        response = requests.get(endpoint)\n",
    "        response.raise_for_status()  # raise an exception for non-200 status codes\n",
    "        data = response.json()\n",
    "        return data\n",
    "    except requests.exceptions.RequestException as e:\n",
    "        print(f\"Error fetching data: {e}\")\n",
    "        return None\n"
   ]
  },
  {
   "cell_type": "code",
   "execution_count": 4,
   "metadata": {},
   "outputs": [],
   "source": [
    "import json\n",
    "from stix2 import Indicator, parse\n",
    "\n",
    "# Mapping of section names to STIX object types\n",
    "SECTION_TYPE_MAP = {\n",
    "    'general': 'indicator',\n",
    "    'geo': 'location',\n",
    "    'malware': 'malware',\n",
    "    'url_list': 'url',\n",
    "    'passive_dns': 'domain-name',\n",
    "    'whois': 'identity',\n",
    "    'http_scans': 'network-traffic',\n",
    "}\n",
    "\n",
    "def json_to_stix(domain, section):\n",
    "    # Load JSON data from API response\n",
    "    json_data = search_domain(domain, section)\n",
    "    \n",
    "    # Determine the corresponding STIX object type\n",
    "    stix_type = SECTION_TYPE_MAP.get(section, 'indicator')\n",
    "    \n",
    "    # Create STIX 2.1 object from JSON data\n",
    "    if stix_type == 'indicator':\n",
    "        stix_object = Indicator.from_dict(json_data)\n",
    "    else:\n",
    "        stix_object = parse(json.dumps(json_data), stix_type)\n",
    "    \n",
    "    return stix_object\n"
   ]
  },
  {
   "cell_type": "code",
   "execution_count": 5,
   "metadata": {},
   "outputs": [
    {
     "name": "stdout",
     "output_type": "stream",
     "text": [
      "{\"type\": \"location\", \"spec_version\": \"2.1\", \"id\": \"location--0384cf32-0aca-4ad7-9bcc-27879e7e2904\", \"created\": \"2023-04-13T02:15:57.969606Z\", \"modified\": \"2023-04-13T02:15:57.969606Z\", \"latitude\": 42.1591, \"longitude\": -70.8163, \"region\": \"MA\", \"city\": \"Norwell\", \"postal_code\": \"02061\", \"accuracy_radius\": 1000, \"area_code\": 0, \"asn\": \"AS15133 verizon\", \"charset\": 0, \"city_data\": true, \"continent_code\": \"NA\", \"country_code\": \"US\", \"country_code2\": \"US\", \"country_code3\": \"USA\", \"country_name\": \"United States of America\", \"dma_code\": 506, \"flag_title\": \"United States of America\", \"flag_url\": \"/assets/images/flags/us.png\", \"subdivision\": \"MA\"}\n"
     ]
    }
   ],
   "source": [
    "from stix2 import parse\n",
    "import json\n",
    "\n",
    "# Search for domain in API and get JSON data\n",
    "data = search_domain(\"example.com\", \"geo\")\n",
    "data['type'] = 'location'\n",
    "\n",
    "# Convert the dictionary to JSON string\n",
    "json_data = json.dumps(data)\n",
    "\n",
    "# Create STIX 2.1 indicator from JSON string using parse()\n",
    "indicator = parse(json_data, allow_custom=True, version=\"2.1\")\n",
    "\n",
    "# Print the indicator in JSON format\n",
    "print(indicator.serialize())"
   ]
  },
  {
   "cell_type": "code",
   "execution_count": null,
   "metadata": {},
   "outputs": [],
   "source": [
    "import json\n",
    "from stix2 import Indicator, parse\n",
    "\n",
    "# Mapping of section names to STIX object types\n",
    "SECTION_TYPE_MAP = {\n",
    "    'general': 'indicator',\n",
    "    'geo': 'location',\n",
    "    'malware': 'malware',\n",
    "    'url_list': 'url',\n",
    "    'passive_dns': 'domain-name',\n",
    "    'whois': 'identity',\n",
    "    'http_scans': 'network-traffic',\n",
    "}\n",
    "\n",
    "def json_to_stix(domain, section):\n",
    "    # Load JSON data from API response\n",
    "    json_data = search_domain(domain, section)\n",
    "    \n",
    "    # Determine the corresponding STIX object type\n",
    "    stix_type = SECTION_TYPE_MAP.get(section, 'indicator')\n",
    "    \n",
    "    # Create STIX 2.1 object from JSON data\n",
    "    if stix_type == 'indicator':\n",
    "        stix_object = Indicator.from_dict(json_data)\n",
    "    else:\n",
    "        stix_object = parse(json.dumps(json_data), stix_type)\n",
    "    \n",
    "    return stix_object\n"
   ]
  },
  {
   "cell_type": "code",
   "execution_count": null,
   "metadata": {},
   "outputs": [],
   "source": [
    "# Example usage\n",
    "domain = \"ualr.edu\"\n",
    "section = \"http_scans\"\n",
    "\"\"\"\n",
    "sections:\n",
    "general: General information about the domain, including any pulses, and a list of the other sections currently available for this domain.\n",
    "geo: A more verbose listing of geographic data (Country code, coordinates, etc.)\n",
    "malware: Malware samples analyzed by AlienVault Labs which have been observed connecting to this domain.\n",
    "url_list: URLs analyzed by AlienVault Labs on this domain.\n",
    "passive_dns: Passive dns records observed by AlienVault Labs pointing to this domain.\n",
    "whois: Whois records for the domain.\n",
    "http_scans: Meta data for http(s) connections to the domain.\n",
    "\"\"\"\n",
    "data = search_domain(domain, section)\n",
    "if data:\n",
    "    print(data)\n",
    "else:\n",
    "    print(f\"Error: Failed to retrieve {section} data for {domain}\")"
   ]
  }
 ],
 "metadata": {
  "kernelspec": {
   "display_name": ".venv",
   "language": "python",
   "name": "python3"
  },
  "language_info": {
   "codemirror_mode": {
    "name": "ipython",
    "version": 3
   },
   "file_extension": ".py",
   "mimetype": "text/x-python",
   "name": "python",
   "nbconvert_exporter": "python",
   "pygments_lexer": "ipython3",
   "version": "3.7.4"
  },
  "orig_nbformat": 4
 },
 "nbformat": 4,
 "nbformat_minor": 2
}
