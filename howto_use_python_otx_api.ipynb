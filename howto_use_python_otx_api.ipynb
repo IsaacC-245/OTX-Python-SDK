{
 "cells": [
  {
   "cell_type": "markdown",
   "metadata": {},
   "source": [
    "# Using the OTX-Python-SDK"
   ]
  },
  {
   "cell_type": "markdown",
   "metadata": {},
   "source": [
    "## API Key Configuration"
   ]
  },
  {
   "cell_type": "code",
   "execution_count": null,
   "metadata": {
    "collapsed": true
   },
   "outputs": [],
   "source": [
    "from OTXv2 import OTXv2, IndicatorTypes"
   ]
  },
  {
   "cell_type": "code",
   "execution_count": null,
   "metadata": {
    "collapsed": true
   },
   "outputs": [],
   "source": [
    "from pandas.io.json import json_normalize"
   ]
  },
  {
   "cell_type": "code",
   "execution_count": null,
   "metadata": {
    "collapsed": true
   },
   "outputs": [],
   "source": [
    "from datetime import datetime, timedelta"
   ]
  },
  {
   "cell_type": "code",
   "execution_count": null,
   "metadata": {
    "collapsed": false
   },
   "outputs": [],
   "source": [
    "otx = OTXv2(\"7ef390234ffa11dd340269f1ae184cf9fe3191bd2ba16b23148fe33c4ebe0c91\")"
   ]
  },
  {
   "cell_type": "markdown",
   "metadata": {},
   "source": [
    "Replace YOUR_KEY with your OTX API key. You can find it on your settings page https://otx.alienvault.com/settings."
   ]
  },
  {
   "cell_type": "markdown",
   "metadata": {},
   "source": [
    "## Subscriptions"
   ]
  },
  {
   "cell_type": "markdown",
   "metadata": {},
   "source": [
    "The getall() method accesses your subscriptions.  It downloads all the OTX pulses and their assocciated indicators of compromise (IOCs) from your account. This includes:  \n",
    "- All pulses you subscribe to directly\n",
    "- All pulses by users you subscribe to\n",
    "- OTX pulses you created (including private pulses)\n",
    "If this is the first time you are using your account, the download includes all pulses created by AlienVault. All users are subscribed to the AlienVault user by default."
   ]
  },
  {
   "cell_type": "code",
   "execution_count": null,
   "metadata": {
    "collapsed": true
   },
   "outputs": [],
   "source": [
    "pulses = otx.getall()"
   ]
  },
  {
   "cell_type": "code",
   "execution_count": null,
   "metadata": {
    "collapsed": false
   },
   "outputs": [],
   "source": [
    "len(pulses)"
   ]
  },
  {
   "cell_type": "markdown",
   "metadata": {},
   "source": [
    "Let's list a few pulses:"
   ]
  },
  {
   "cell_type": "code",
   "execution_count": null,
   "metadata": {
    "collapsed": false,
    "scrolled": true
   },
   "outputs": [],
   "source": [
    "json_normalize(pulses)[0:5]"
   ]
  },
  {
   "cell_type": "markdown",
   "metadata": {},
   "source": [
    "- author_name: The username of the OTX User that created the pulse\n",
    "- created: Date when the pulse was created in the system\n",
    "- description: Describes the pulse in terms of the type of threat it poses, and any other facts that may link it to other threat indicators.\n",
    "- id: Unique identifier of the pulse\n",
    "- indicators: Collection of Indicators Of Compromise \n",
    "- modified: Date when the pulse was last modified\n",
    "- name: Name of the pulse\n",
    "- references: List of references to papers, websites or blogs related to the threat described in the pulse\n",
    "- revision: Revision number that increments each time pulse contents change\n",
    "- tags: List of tags that provide information about pulse content, for example, Phshing, malware, C&C, and apt."
   ]
  },
  {
   "cell_type": "markdown",
   "metadata": {},
   "source": [
    "Let's explore the indicators object:"
   ]
  },
  {
   "cell_type": "code",
   "execution_count": null,
   "metadata": {
    "collapsed": false,
    "scrolled": false
   },
   "outputs": [],
   "source": [
    "json_normalize(pulses[1][\"indicators\"])"
   ]
  },
  {
   "cell_type": "markdown",
   "metadata": {},
   "source": [
    "- _id: Unique identifier of the IOC\n",
    "- created: Date IOC was added to the pulse\n",
    "- description: Describe the Indicator Of Compromise\n",
    "- indicator: The IOC\n",
    "- indicator_type: Type of indicator\n",
    "\n",
    "The following Indicator Types are supported (also defined in IndicatorTypes.py):"
   ]
  },
  {
   "cell_type": "code",
   "execution_count": null,
   "metadata": {
    "collapsed": true
   },
   "outputs": [],
   "source": [
    "indicator_types = [\n",
    "\t\t\t{\n",
    "\t\t\t    \"name\": \"IPv4\", \n",
    "\t\t\t    \"description\": \"An IPv4 address indicating the online location of a server or other computer.\"\n",
    "\t\t\t}, \n",
    "\t\t\t{\n",
    "\t\t\t    \"name\": \"IPv6\", \n",
    "\t\t\t    \"description\": \"An IPv6 address indicating the online location of a server or other computer.\"\n",
    "\t\t\t}, \n",
    "\t\t\t{\n",
    "\t\t\t    \"name\": \"domain\", \n",
    "\t\t\t    \"description\": \"A domain name for a website or server. Domains encompass a series of hostnames.\"\n",
    "\t\t\t}, \n",
    "\t\t\t{\n",
    "\t\t\t    \"name\": \"hostname\", \n",
    "\t\t\t    \"description\": \"The hostname for a server located within a domain.\"\n",
    "\t\t\t}, \n",
    "\t\t\t{\n",
    "\t\t\t     \n",
    "\t\t\t    \"name\": \"email\", \n",
    "\t\t\t    \"description\": \"An email associated with suspicious activity.\"\n",
    "\t\t\t}, \n",
    "\t\t\t{\n",
    "\t\t\t    \"name\": \"URL\", \n",
    "\t\t\t    \"description\": \" Uniform Resource Location (URL) summarizing the online location of a file or resource.\"\n",
    "\t\t\t}, \n",
    "\t\t\t{\n",
    "\t\t\t     \n",
    "\t\t\t    \"name\": \"URI\", \n",
    "\t\t\t    \"description\": \"Uniform Resource Indicator (URI) describing the explicit path to a file hosted online.\"\n",
    "\t\t\t}, \n",
    "\t\t\t{\n",
    "\t\t\t    \"name\": \"FileHash-MD5\", \n",
    "\t\t\t    \"description\": \"A MD5-format hash that summarizes the architecture and content of a file.\"\n",
    "\t\t\t}, \n",
    "\t\t\t{\n",
    "\t\t\t    \"name\": \"FileHash-SHA1\", \n",
    "\t\t\t    \"description\": \"A SHA-format hash that summarizes the architecture and content of a file.\"\n",
    "\t\t\t}, \n",
    "\t\t\t{\n",
    "\t\t\t    \"name\": \"FileHash-SHA256\", \n",
    "\t\t\t    \"description\": \"A SHA-256-format hash that summarizes the architecture and content of a file.\"\n",
    "\t\t\t}, \n",
    "\t\t\t{\n",
    "\t\t\t     \n",
    "\t\t\t    \"name\": \"FileHash-PEHASH\", \n",
    "\t\t\t    \"description\": \"A PEPHASH-format hash that summarizes the architecture and content of a file.\"\n",
    "\t\t\t}, \n",
    "\t\t\t{\n",
    "\t\t\t     \n",
    "\t\t\t    \"name\": \"FileHash-IMPHASH\", \n",
    "\t\t\t    \"description\": \"An IMPHASH-format hash that summarizes the architecture and content of a file.\"\n",
    "\t\t\t}, \n",
    "\t\t\t{\n",
    "\t\t\t    \"name\": \"CIDR\", \n",
    "\t\t\t    \"description\": \"Classless Inter-Domain Routing (CIDR) address, which describes both a server's IP address and the network architecture (routing path) surrounding that server.\"\n",
    "\t\t\t}, \n",
    "\t\t\t{\n",
    "\t\t\t     \n",
    "\t\t\t    \"name\": \"FilePath\", \n",
    "\t\t\t    \"description\": \"A unique location in a file system.\"\n",
    "\t\t\t}, \n",
    "\t\t\t{\n",
    "\t\t\t     \n",
    "\t\t\t    \"name\": \"Mutex\", \n",
    "\t\t\t    \"description\": \"The name of a mutex resource describing the execution architecture of a file.\"\n",
    "\t\t\t}, \n",
    "\t\t\t{\n",
    "\t\t\t    \"name\": \"CVE\", \n",
    "\t\t\t    \"description\": \"Common Vulnerability and Exposure (CVE) entry describing a software vulnerability that can be exploited to engage in malicious activity.\"\n",
    "\t\t\t}]"
   ]
  },
  {
   "cell_type": "code",
   "execution_count": null,
   "metadata": {
    "collapsed": false,
    "scrolled": true
   },
   "outputs": [],
   "source": [
    "json_normalize(indicator_types)"
   ]
  },
  {
   "cell_type": "code",
   "execution_count": null,
   "metadata": {
    "collapsed": true
   },
   "outputs": [],
   "source": [
    "mtime = (datetime.now() - timedelta(days=1)).isoformat()"
   ]
  },
  {
   "cell_type": "code",
   "execution_count": null,
   "metadata": {
    "collapsed": false
   },
   "outputs": [],
   "source": [
    "mtime"
   ]
  },
  {
   "cell_type": "markdown",
   "metadata": {},
   "source": [
    "## Events"
   ]
  },
  {
   "cell_type": "markdown",
   "metadata": {},
   "source": [
    "Besides receiving the pulse information, there is another function that can retrieve different events that are ocurring in the OTX system and affect your account."
   ]
  },
  {
   "cell_type": "code",
   "execution_count": null,
   "metadata": {
    "collapsed": true
   },
   "outputs": [],
   "source": [
    "events = otx.getevents_since(mtime)"
   ]
  },
  {
   "cell_type": "code",
   "execution_count": null,
   "metadata": {
    "collapsed": false
   },
   "outputs": [],
   "source": [
    "json_normalize(events)"
   ]
  },
  {
   "cell_type": "markdown",
   "metadata": {},
   "source": [
    "- id: object id of this event.  Unique reference identifier\n",
    "- action : \"[subscribe | unsubscribe | delete]\", Currently supports subscribe / unsubscribe events for users and pulses and delete events for pulses\n",
    "- object_type : \"[pulse | user]\", // Currently supports events for pulse and user objects\n",
    "- object_id : \"[pulse id | author id]\", // Unique id can be used to lookup pulses and users (e.g. to remove them from  system, they would remove all pulses by author_id or an individual pulse by pulse \"id\".\n",
    "\"created\" : <timestamp of event>"
   ]
  },
  {
   "cell_type": "markdown",
   "metadata": {},
   "source": [
    "When developing an application, you must decide how you want to handle different types of events. For instance, if one OTX user unsubscribes from another user, do you want to delete the IOCs the second user contributed from your application? How do you plan to reconcile the data on the server versus the data in your application?\n",
    "The same question comes up when users delete a pulse."
   ]
  },
  {
   "cell_type": "markdown",
   "metadata": {},
   "source": [
    "## Using Search and get Pulse by ID"
   ]
  },
  {
   "cell_type": "markdown",
   "metadata": {},
   "source": [
    "The OTX API allows you to search for pulses and users by keyword.  This allows you to obtain pulses that you're not (yet) subscribed to."
   ]
  },
  {
   "cell_type": "code",
   "execution_count": null,
   "metadata": {
    "collapsed": true
   },
   "outputs": [],
   "source": [
    "pulses = otx.search_pulses(\"Russian\")"
   ]
  },
  {
   "cell_type": "code",
   "execution_count": null,
   "metadata": {
    "collapsed": false
   },
   "outputs": [],
   "source": [
    "json_normalize(pulses[\"results\"])"
   ]
  },
  {
   "cell_type": "markdown",
   "metadata": {},
   "source": [
    "Let's say we're interested in viewing the full details (including indicators) from one of our search results.  For example maybe we're interested in the Enigma Ransomware:"
   ]
  },
  {
   "cell_type": "code",
   "execution_count": null,
   "metadata": {
    "collapsed": true
   },
   "outputs": [],
   "source": [
    "pulse_id = pulses[\"results\"][1][\"id\"]"
   ]
  },
  {
   "cell_type": "code",
   "execution_count": null,
   "metadata": {
    "collapsed": false
   },
   "outputs": [],
   "source": [
    "pulse_details = otx.get_pulse_details(pulse_id)"
   ]
  },
  {
   "cell_type": "code",
   "execution_count": null,
   "metadata": {
    "collapsed": false
   },
   "outputs": [],
   "source": [
    "json_normalize(pulse_details)"
   ]
  },
  {
   "cell_type": "markdown",
   "metadata": {},
   "source": [
    "## Indicator details"
   ]
  },
  {
   "cell_type": "markdown",
   "metadata": {},
   "source": [
    "Let's investigate an indicator included in the Enigma Ransomware pulse."
   ]
  },
  {
   "cell_type": "code",
   "execution_count": null,
   "metadata": {
    "collapsed": true
   },
   "outputs": [],
   "source": [
    "indicator = pulse_details[\"indicators\"][4][\"indicator\"]"
   ]
  },
  {
   "cell_type": "code",
   "execution_count": null,
   "metadata": {
    "collapsed": false
   },
   "outputs": [],
   "source": [
    "indicator_details = otx.get_indicator_details_full(IndicatorTypes.IPv4, indicator)"
   ]
  },
  {
   "cell_type": "markdown",
   "metadata": {},
   "source": [
    "Indicator details are divided into sections for convenience:"
   ]
  },
  {
   "cell_type": "code",
   "execution_count": null,
   "metadata": {
    "collapsed": false
   },
   "outputs": [],
   "source": [
    "indicator_details.keys()"
   ]
  },
  {
   "cell_type": "code",
   "execution_count": null,
   "metadata": {
    "collapsed": false
   },
   "outputs": [],
   "source": [
    "json_normalize(indicator_details[\"url_list\"])"
   ]
  },
  {
   "cell_type": "code",
   "execution_count": null,
   "metadata": {
    "collapsed": false,
    "scrolled": false
   },
   "outputs": [],
   "source": [
    "json_normalize(indicator_details[\"passive_dns\"].get('passive_dns'))"
   ]
  },
  {
   "cell_type": "markdown",
   "metadata": {},
   "source": [
    "Indicator details are not available for all supported indicator types.  IndicatorTypes.supported_api_types contains a list of the indicator types you can use with get_indicator_details_by_section and get_indicator_details_full. "
   ]
  },
  {
   "cell_type": "markdown",
   "metadata": {},
   "source": [
    "## Create pulse"
   ]
  },
  {
   "cell_type": "markdown",
   "metadata": {},
   "source": [
    "You can create new pulses using the create_pulse function.  A name string is required.  Public boolean is also required but will be set True if not provided:"
   ]
  },
  {
   "cell_type": "code",
   "execution_count": null,
   "metadata": {
    "collapsed": true
   },
   "outputs": [],
   "source": [
    "indicators = [{\"indicator\": \"82.194.84.121\", \"description\":\"\", \"type\": \"IPv4\"}, {\"indicator\": \"82.194.84.122\", \"description\":\"\", \"type\": \"IPv4\"}]"
   ]
  },
  {
   "cell_type": "code",
   "execution_count": null,
   "metadata": {
    "collapsed": true
   },
   "outputs": [],
   "source": [
    "new_pulse = otx.create_pulse(name=\"IPy Notebook Test\", indicators=indicators, public=False)"
   ]
  },
  {
   "cell_type": "code",
   "execution_count": null,
   "metadata": {
    "collapsed": false,
    "scrolled": true
   },
   "outputs": [],
   "source": [
    "json_normalize(new_pulse)"
   ]
  },
  {
   "cell_type": "markdown",
   "metadata": {},
   "source": [
    "The following fields can be passed into create_pulse:\n",
    "- name(string, required) pulse name\n",
    "- public(boolean, required) long form description of threat\n",
    "- description(string) long form description of threat\n",
    "- tlp(string, white/green/amber/red) Traffic Light Protocol level for threat sharing\n",
    "- tags(list of strings) short keywords to associate with your pulse\n",
    "- references(list of strings, preferably URLs) external references for this threat\n",
    "- indicators(list of objects) IOCs to include in pulse"
   ]
  }
 ],
 "metadata": {
  "kernelspec": {
   "display_name": ".venv",
   "language": "python",
   "name": "python3"
  },
  "language_info": {
   "codemirror_mode": {
    "name": "ipython",
    "version": 3
   },
   "file_extension": ".py",
   "mimetype": "text/x-python",
   "name": "python",
   "nbconvert_exporter": "python",
   "pygments_lexer": "ipython3",
   "version": "3.7.4"
  }
 },
 "nbformat": 4,
 "nbformat_minor": 0
}
