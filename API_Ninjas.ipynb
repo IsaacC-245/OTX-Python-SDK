{
 "cells": [
  {
   "cell_type": "code",
   "execution_count": 1,
   "metadata": {},
   "outputs": [
    {
     "name": "stdout",
     "output_type": "stream",
     "text": [
      "[{\"record_type\": \"A\", \"value\": \"144.167.4.20\"}, {\"record_type\": \"MX\", \"priority\": 5, \"value\": \"ALT1.ASPMX.L.GOOGLE.COM.\"}, {\"record_type\": \"MX\", \"priority\": 5, \"value\": \"ALT2.ASPMX.L.GOOGLE.COM.\"}, {\"record_type\": \"MX\", \"priority\": 1, \"value\": \"ASPMX.L.GOOGLE.COM.\"}, {\"record_type\": \"MX\", \"priority\": 10, \"value\": \"ALT4.ASPMX.L.GOOGLE.COM.\"}, {\"record_type\": \"MX\", \"priority\": 10, \"value\": \"ALT3.ASPMX.L.GOOGLE.COM.\"}, {\"record_type\": \"NS\", \"value\": \"ns.ualr.edu.\"}, {\"record_type\": \"NS\", \"value\": \"ns4.ualr.edu.\"}, {\"record_type\": \"NS\", \"value\": \"ns5.ualr.edu.\"}, {\"record_type\": \"NS\", \"value\": \"ns7.net.ualr.edu.\"}, {\"record_type\": \"NS\", \"value\": \"ns3.ualr.edu.\"}, {\"record_type\": \"NS\", \"value\": \"ns6.ualr.edu.\"}, {\"record_type\": \"NS\", \"value\": \"ns2.ualr.edu.\"}, {\"record_type\": \"SOA\", \"mname\": \"ns.ualr.edu.\", \"rname\": \"postmaster.ualr.edu.\", \"serial\": 2023032587, \"refresh\": 10800, \"retry\": 3600, \"expire\": 604800, \"ttl\": 38400}, {\"record_type\": \"TXT\", \"value\": \"v=spf1 a:mta.ualr.edu include:_spf.google.com redirect=_spf.ualr.edu\"}, {\"record_type\": \"TXT\", \"value\": \"r9svejjr1luj2ku7p3ce75bioh\"}, {\"record_type\": \"TXT\", \"value\": \"apple-domain-verification=YTkbLjGErIJBs6qz\"}, {\"record_type\": \"TXT\", \"value\": \"google-site-verification=uxC5PHOmwb-2a_aq1njrV1x-xsYhRd1WJy0NO1JVAIg\"}, {\"record_type\": \"TXT\", \"value\": \"4matq4aje2v112uoj1vv6ufdvl\"}, {\"record_type\": \"TXT\", \"value\": \"2b0mti35tosrndv74u04iephu\"}, {\"record_type\": \"TXT\", \"value\": \"d365mktkey=mNxIBtzZKRzsdejlukNx9VTy4UsuRAiCmxqxgyumdAcx\"}, {\"record_type\": \"TXT\", \"value\": \"atlassian-domain-verification=FBt1hWjLDogQKup18ZaeUiMxbTho38rXwmknWLiVuZFnZalvF2R/WaWiKnp/2ZA5\"}, {\"record_type\": \"TXT\", \"value\": \"docusign=d939ca0f-1aae-4f79-9390-d2bb2d72aa07\"}, {\"record_type\": \"TXT\", \"value\": \"d365mktkey=0PY6PrPEXE0QWig2jZqcvXJBlpw2dtM2xJGEecS3Lgcx\"}, {\"record_type\": \"TXT\", \"value\": \"e2ma-verification=mrvbb\"}, {\"record_type\": \"TXT\", \"value\": \"ZOOM_verify_FtfVtPKpSoKiui1hCYYJXQ\"}]\n"
     ]
    },
    {
     "ename": "TypeError",
     "evalue": "list indices must be integers or slices, not str",
     "output_type": "error",
     "traceback": [
      "\u001b[1;31m---------------------------------------------------------------------------\u001b[0m",
      "\u001b[1;31mTypeError\u001b[0m                                 Traceback (most recent call last)",
      "\u001b[1;32m~\\AppData\\Local\\Temp\\ipykernel_18280\\1395581981.py\u001b[0m in \u001b[0;36m<module>\u001b[1;34m\u001b[0m\n\u001b[0;32m     29\u001b[0m \u001b[1;33m\u001b[0m\u001b[0m\n\u001b[0;32m     30\u001b[0m     \u001b[1;31m# populate the resolves_to_refs field with IP addresses\u001b[0m\u001b[1;33m\u001b[0m\u001b[1;33m\u001b[0m\u001b[1;33m\u001b[0m\u001b[0m\n\u001b[1;32m---> 31\u001b[1;33m     \u001b[1;32mfor\u001b[0m \u001b[0mi\u001b[0m\u001b[1;33m,\u001b[0m \u001b[0mrecord\u001b[0m \u001b[1;32min\u001b[0m \u001b[0menumerate\u001b[0m\u001b[1;33m(\u001b[0m\u001b[0mresult\u001b[0m\u001b[1;33m[\u001b[0m\u001b[1;34m'records'\u001b[0m\u001b[1;33m]\u001b[0m\u001b[1;33m)\u001b[0m\u001b[1;33m:\u001b[0m\u001b[1;33m\u001b[0m\u001b[1;33m\u001b[0m\u001b[0m\n\u001b[0m\u001b[0;32m     32\u001b[0m         \u001b[1;32mif\u001b[0m \u001b[0mrecord\u001b[0m\u001b[1;33m[\u001b[0m\u001b[1;34m'type'\u001b[0m\u001b[1;33m]\u001b[0m \u001b[1;33m==\u001b[0m \u001b[1;34m'A'\u001b[0m\u001b[1;33m:\u001b[0m\u001b[1;33m\u001b[0m\u001b[1;33m\u001b[0m\u001b[0m\n\u001b[0;32m     33\u001b[0m             domain_obj['resolves_to_refs'].append({\n",
      "\u001b[1;31mTypeError\u001b[0m: list indices must be integers or slices, not str"
     ]
    }
   ],
   "source": [
    "import requests\n",
    "\n",
    "domain = 'ualr.edu'\n",
    "api_url = 'https://api.api-ninjas.com/v1/dnslookup?domain={}'.format(domain)\n",
    "response = requests.get(api_url, headers={'X-Api-Key': 'wHwJqDW0sOyr+YT8s31SQQ==6BkjC2ZIEvIGDjyi'})\n",
    "if response.status_code == requests.codes.ok:\n",
    "    print(response.text)\n",
    "else:\n",
    "    print(\"Error:\", response.status_code, response.text)\n",
    "\n",
    "    import requests\n",
    "import json\n",
    "\n",
    "domain = 'ualr.edu'\n",
    "api_url = 'https://api.api-ninjas.com/v1/dnslookup?domain={}'.format(domain)\n",
    "headers = {'X-Api-Key': 'wHwJqDW0sOyr+YT8s31SQQ==6BkjC2ZIEvIGDjyi'}\n",
    "response = requests.get(api_url, headers=headers)\n",
    "\n",
    "if response.status_code == requests.codes.ok:\n",
    "    # parse the JSON response into a dictionary\n",
    "    result = json.loads(response.text)\n",
    "    \n",
    "    # create a STIX 2.1 Domain Name object\n",
    "    domain_obj = {\n",
    "        \"type\": \"domain-name\",\n",
    "        \"value\": domain,\n",
    "        \"resolves_to_refs\": []\n",
    "    }\n",
    "    \n",
    "    # populate the resolves_to_refs field with IP addresses\n",
    "    for i, record in enumerate(result['records']):\n",
    "        if record['type'] == 'A':\n",
    "            domain_obj['resolves_to_refs'].append({\n",
    "                \"type\": \"ipv4-addr\",\n",
    "                \"value\": record['value']\n",
    "            })\n",
    "    \n",
    "    # print the STIX object as JSON\n",
    "    print(json.dumps(domain_obj, indent=4))\n",
    "else:\n",
    "    print(\"Error:\", response.status_code, response.text)"
   ]
  }
 ],
 "metadata": {
  "kernelspec": {
   "display_name": ".venv",
   "language": "python",
   "name": "python3"
  },
  "language_info": {
   "codemirror_mode": {
    "name": "ipython",
    "version": 3
   },
   "file_extension": ".py",
   "mimetype": "text/x-python",
   "name": "python",
   "nbconvert_exporter": "python",
   "pygments_lexer": "ipython3",
   "version": "3.7.4"
  },
  "orig_nbformat": 4
 },
 "nbformat": 4,
 "nbformat_minor": 2
}
